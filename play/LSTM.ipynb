{
 "cells": [
  {
   "cell_type": "code",
   "execution_count": 1,
   "metadata": {},
   "outputs": [
    {
     "name": "stderr",
     "output_type": "stream",
     "text": [
      "Using TensorFlow backend.\n"
     ]
    }
   ],
   "source": [
    "import sys\n",
    "from math import *\n",
    "import numpy as np\n",
    "import pandas as pd\n",
    "import matplotlib.pyplot as plt\n",
    "import seaborn as sns\n",
    "import sklearn.preprocessing\n",
    "import sklearn.gaussian_process as gp\n",
    "import sklearn.metrics\n",
    "import keras.models\n",
    "import keras.layers\n",
    "import keras.preprocessing.sequence"
   ]
  },
  {
   "cell_type": "code",
   "execution_count": 2,
   "metadata": {},
   "outputs": [],
   "source": [
    "# convert series to supervised learning\n",
    "def series_to_supervised(data, n_in=1, n_out=1, dropnan=True):\n",
    "    \"\"\"\n",
    "    No identifier column (id or cycle) should be sent to this function!\n",
    "    given dropnan=True this is how rows and columns of the output(o) of this fnuction compare to those of the input(i)\n",
    "    row_o = row_i - n_in\n",
    "    col_o = (col_i) * (n_in + n_out)\n",
    "    \"\"\"\n",
    "    n_vars = 1 if type(data) is list else data.shape[1]\n",
    "    df = pd.DataFrame(data)\n",
    "    cols, names = list(), list()\n",
    "    # input sequence (t-n, ... t-1)\n",
    "    for i in range(n_in, 0, -1):\n",
    "        cols.append(df.shift(i))\n",
    "        names += [('var%d(t-%d)' % (j+1, i)) for j in range(n_vars)]\n",
    "    # forecast sequence (t, t+1, ... t+n)\n",
    "    for i in range(0, n_out):\n",
    "        cols.append(df.shift(-i))\n",
    "        if i == 0:\n",
    "            names += [('var%d(t)' % (j+1)) for j in range(n_vars)]\n",
    "        else:\n",
    "            names += [('var%d(t+%d)' % (j+1, i)) for j in range(n_vars)]\n",
    "    # put it all together\n",
    "    agg = pd.concat(cols, axis=1)\n",
    "    agg.columns = names\n",
    "    # drop rows with NaN values\n",
    "    if dropnan:\n",
    "        agg.dropna(inplace=True)\n",
    "    return agg\n",
    "\n",
    "# pad sequences - use for each sample sequence separately\n",
    "def pad_seq(df, maxlen, mode='pre'):\n",
    "        if maxlen < df.cycle.max():\n",
    "                print 'the \"maxlen\" you chose is shorter than the current sequence. Use truncate_columns instead to truncate the sequence.', df.id.unique()\n",
    "                return df\n",
    "        else:\n",
    "                if mode == 'pre':\n",
    "                        tmp = pd.DataFrame({'cycle': range(df.cycle.max(), maxlen), 'id': df.id.unique()[0]}, columns=df.columns) #FIXME! possible off-by-one error in using range!\n",
    "                        tmp = df.append(tmp).fillna(0)\n",
    "                elif mode == 'post':\n",
    "                        pass #FIXME!\n",
    "                return tmp\n",
    "\n",
    "# truncate sequences - use for each sample sequence separately\n",
    "def truncate_seq(df, minlen, mode='post'):\n",
    "    if minlen > df.cycle.max():\n",
    "        print 'the \"minlen\" you chose is longer than the current sequence. Use pad_column instead to zero-pad the sequence.', df.id.unique()\n",
    "        return df\n",
    "    else:\n",
    "        if mode == 'post':\n",
    "            tmp = df.loc[df.cycle<=minlen]\n",
    "        elif mode == 'pre':\n",
    "            pass\n",
    "        return tmp"
   ]
  },
  {
   "cell_type": "code",
   "execution_count": 3,
   "metadata": {
    "collapsed": true
   },
   "outputs": [],
   "source": [
    "sn = 1\n",
    "setnumber = 'FD00' + str(sn)"
   ]
  },
  {
   "cell_type": "code",
   "execution_count": 4,
   "metadata": {},
   "outputs": [
    {
     "name": "stdout",
     "output_type": "stream",
     "text": [
      "read data\n",
      "drop index column\n",
      "normalize features (using MinMaxScaler)\n"
     ]
    }
   ],
   "source": [
    "# read data\n",
    "print 'read data'\n",
    "train = pd.read_csv('data/train_'+setnumber+'.csv')\n",
    "test = pd.read_csv('data/test_'+setnumber+'.csv')\n",
    "\n",
    "\n",
    "# drop the extra column\n",
    "print 'drop index column'\n",
    "train.drop('Unnamed: 0', 1, inplace=True)\n",
    "test.drop('Unnamed: 0', 1, inplace=True)\n",
    "\n",
    "# normalize features\n",
    "print 'normalize features (using MinMaxScaler)'\n",
    "train_scalables = train.loc[:,train.columns.difference(['id', 'cycle'])].values\n",
    "test_scalables = test.loc[:,test.columns.difference(['id', 'cycle'])].values\n",
    "\n",
    "train_scaler = sklearn.preprocessing.MinMaxScaler(feature_range=(0,1)).fit(train_scalables)\n",
    "test_scaler = sklearn.preprocessing.MinMaxScaler(feature_range=(0,1)).fit(test_scalables)\n",
    "\n",
    "train_values = train_scaler.transform(train_scalables)\n",
    "test_values = test_scaler.transform(test_scalables)\n",
    "\n",
    "train.loc[:,train.columns.difference(['id', 'cycle'])] = train_values\n",
    "test.loc[:,test.columns.difference(['id', 'cycle'])] = test_values\n"
   ]
  },
  {
   "cell_type": "code",
   "execution_count": 5,
   "metadata": {},
   "outputs": [
    {
     "name": "stdout",
     "output_type": "stream",
     "text": [
      "zero-pad/truncate sequences\n"
     ]
    }
   ],
   "source": [
    "# pad sequences\n",
    "print 'zero-pad/truncate sequences'\n",
    "train_maxlen = train.cycle.max()\n",
    "train_clens = np.array([train.loc[train.id==i, 'cycle'].max() for i in train.id.unique()])\n",
    "train_minlen = train_clens.min()\n",
    "\n",
    "test_maxlen = test.cycle.max()\n",
    "test_clens = np.array([test.loc[test.id==i, 'cycle'].max() for i in test.id.unique()])\n",
    "test_minlen = test_clens.min()\n",
    "\n",
    "train_minlen = test_minlen\n",
    "\n",
    "train_padded = pd.DataFrame(columns=train.columns)\n",
    "for i in train.id.unique():\n",
    "    train_padded = train_padded.append(truncate_seq(train.loc[train.id==i], train_minlen))\n",
    "train = train_padded\n",
    "\n",
    "test_padded = pd.DataFrame(columns=test.columns)\n",
    "for i in test.id.unique():\n",
    "    test_padded = test_padded.append(truncate_seq(test.loc[test.id==i], test_minlen))\n",
    "test = test_padded"
   ]
  },
  {
   "cell_type": "code",
   "execution_count": 6,
   "metadata": {},
   "outputs": [],
   "source": [
    "# read the data dimensions for the LSTM layer\n",
    "train_samples = train.id.nunique()\n",
    "test_samples = test.id.nunique()\n",
    "\n",
    "train_n_in = train_minlen - 1\n",
    "test_n_in = test_minlen - 1\n",
    "n_out = 1\n",
    "\n",
    "train_timesteps = train_n_in + n_out\n",
    "test_timesteps = test_n_in + n_out"
   ]
  },
  {
   "cell_type": "code",
   "execution_count": 7,
   "metadata": {},
   "outputs": [
    {
     "name": "stdout",
     "output_type": "stream",
     "text": [
      "frame sequence as supervised learning\n"
     ]
    }
   ],
   "source": [
    "# frame as supervised learning\n",
    "print 'frame sequence as supervised learning'\n",
    "train_formatted = pd.DataFrame()\n",
    "train_y = {}\n",
    "for i in train.id.unique():\n",
    "        t_in = train.loc[train.id==i, train.columns.difference(['id', 'cycle'])]\n",
    "        train_y[i] = t_in.RUL.min()\n",
    "        tmp = series_to_supervised(t_in.values, train_n_in, n_out, dropnan=True)\n",
    "        train_formatted = train_formatted.append(tmp)\n",
    "#train = train_formatted\n",
    "\n",
    "test_formatted = pd.DataFrame()\n",
    "for i in test.id.unique():\n",
    "        t_in = test.loc[test.id==i, test.columns.difference(['id', 'cycle'])]\n",
    "        tmp = series_to_supervised(t_in.values, test_n_in, n_out, dropnan=True)\n",
    "        test_formatted = test_formatted.append(tmp)\n",
    "#test = test_formatted"
   ]
  },
  {
   "cell_type": "code",
   "execution_count": 8,
   "metadata": {},
   "outputs": [],
   "source": [
    "train = train_formatted"
   ]
  },
  {
   "cell_type": "code",
   "execution_count": 9,
   "metadata": {},
   "outputs": [],
   "source": [
    "test = test_formatted"
   ]
  },
  {
   "cell_type": "code",
   "execution_count": 10,
   "metadata": {},
   "outputs": [
    {
     "name": "stdout",
     "output_type": "stream",
     "text": [
      "split into inputs(X) and output/labels(y)\n",
      "reshape features to the 3D format required by Keras [samples, timesteps, features]\n"
     ]
    }
   ],
   "source": [
    "# split into input and outputs\n",
    "print 'split into inputs(X) and output/labels(y)' \n",
    "\n",
    "train_features = int(train.shape[1]*1./train_timesteps)\n",
    "test_features = int(test.shape[1]*1./test_timesteps)\n",
    "\n",
    "train_X = train.values\n",
    "test_X = test.values\n",
    "\n",
    "test_y = pd.read_csv('original_data/RUL_'+setnumber+'.txt', header=None, names=['RUL']).RUL.values\n",
    "#test_y = sklearn.preprocessing.MinMaxScaler(feature_range=(0,1)).fit_transform(test_y)\n",
    "\n",
    "train_y = pd.DataFrame(train_y.items(), columns=['id', 'RUL']).RUL.values\n",
    "#train_y = sklearn.preprocessing.MinMaxScaler(feature_range=(0,1)).fit_transform(train_y)\n",
    "\n",
    "print 'reshape features to the 3D format required by Keras [samples, timesteps, features]'\n",
    "train_X = train_X.reshape((train_samples, train_timesteps, train_features))\n",
    "test_X = test_X.reshape((test_samples, test_timesteps, test_features))"
   ]
  },
  {
   "cell_type": "code",
   "execution_count": 11,
   "metadata": {},
   "outputs": [
    {
     "name": "stdout",
     "output_type": "stream",
     "text": [
      "_________________________________________________________________\n",
      "Layer (type)                 Output Shape              Param #   \n",
      "=================================================================\n",
      "lstm_1 (LSTM)                (None, 31, 5)             620       \n",
      "_________________________________________________________________\n",
      "lstm_2 (LSTM)                (None, 31, 5)             220       \n",
      "_________________________________________________________________\n",
      "lstm_3 (LSTM)                (None, 31, 5)             220       \n",
      "_________________________________________________________________\n",
      "lstm_4 (LSTM)                (None, 31, 5)             220       \n",
      "_________________________________________________________________\n",
      "lstm_5 (LSTM)                (None, 5)                 220       \n",
      "_________________________________________________________________\n",
      "dense_1 (Dense)              (None, 1)                 6         \n",
      "=================================================================\n",
      "Total params: 1,506\n",
      "Trainable params: 1,506\n",
      "Non-trainable params: 0\n",
      "_________________________________________________________________\n",
      "None\n"
     ]
    }
   ],
   "source": [
    "# design network\n",
    "bs = 10\n",
    "epoch = 50\n",
    "lw = 5\n",
    "stack_depth = 5\n",
    "\n",
    "model = keras.models.Sequential()\n",
    "\n",
    "# normal LSTM layers where the internal state is updated only at the end of an epoch\n",
    "for i in range(stack_depth-1):\n",
    "        model.add(keras.layers.LSTM(lw, input_shape=(train_X.shape[1], train_X.shape[2]), return_sequences=True))\n",
    "model.add(keras.layers.LSTM(lw, input_shape=(train_X.shape[1], train_X.shape[2])))\n",
    "\n",
    "#FIXME! width of the final fully-connected output layer...\n",
    "model.add(keras.layers.Dense(1, activation='softplus')) #more stable compared to 'relu'...\n",
    "model.compile(loss='mae', optimizer='adam')\n",
    "print model.summary()"
   ]
  },
  {
   "cell_type": "code",
   "execution_count": 12,
   "metadata": {},
   "outputs": [
    {
     "name": "stdout",
     "output_type": "stream",
     "text": [
      "Train on 100 samples, validate on 100 samples\n",
      "Epoch 1/50\n",
      "100/100 [==============================] - 1s - loss: 0.2116 - val_loss: 74.8655\n",
      "Epoch 2/50\n",
      "100/100 [==============================] - 0s - loss: 0.1729 - val_loss: 74.9210\n",
      "Epoch 3/50\n",
      "100/100 [==============================] - 0s - loss: 0.1304 - val_loss: 75.0114\n",
      "Epoch 4/50\n",
      "100/100 [==============================] - 0s - loss: 0.0991 - val_loss: 75.0874\n",
      "Epoch 5/50\n",
      "100/100 [==============================] - 0s - loss: 0.0950 - val_loss: 75.0558\n",
      "Epoch 6/50\n",
      "100/100 [==============================] - 0s - loss: 0.0928 - val_loss: 75.0468\n",
      "Epoch 7/50\n",
      "100/100 [==============================] - 0s - loss: 0.0923 - val_loss: 75.0618\n",
      "Epoch 8/50\n",
      "100/100 [==============================] - 0s - loss: 0.0909 - val_loss: 75.0615\n",
      "Epoch 9/50\n",
      "100/100 [==============================] - 0s - loss: 0.0896 - val_loss: 75.0648\n",
      "Epoch 10/50\n",
      "100/100 [==============================] - 0s - loss: 0.0842 - val_loss: 75.0747\n",
      "Epoch 11/50\n",
      "100/100 [==============================] - 0s - loss: 0.0765 - val_loss: 75.0936\n",
      "Epoch 12/50\n",
      "100/100 [==============================] - 0s - loss: 0.0718 - val_loss: 75.1089\n",
      "Epoch 13/50\n",
      "100/100 [==============================] - 0s - loss: 0.0679 - val_loss: 75.1123\n",
      "Epoch 14/50\n",
      "100/100 [==============================] - 0s - loss: 0.0624 - val_loss: 75.1277\n",
      "Epoch 15/50\n",
      "100/100 [==============================] - 0s - loss: 0.0566 - val_loss: 75.1297\n",
      "Epoch 16/50\n",
      "100/100 [==============================] - 0s - loss: 0.0500 - val_loss: 75.1387\n",
      "Epoch 17/50\n",
      "100/100 [==============================] - 0s - loss: 0.0448 - val_loss: 75.1610\n",
      "Epoch 18/50\n",
      "100/100 [==============================] - 0s - loss: 0.0592 - val_loss: 75.1284\n",
      "Epoch 19/50\n",
      "100/100 [==============================] - 0s - loss: 0.0536 - val_loss: 75.1158\n",
      "Epoch 20/50\n",
      "100/100 [==============================] - 0s - loss: 0.0426 - val_loss: 75.1272\n",
      "Epoch 21/50\n",
      "100/100 [==============================] - 0s - loss: 0.0358 - val_loss: 75.1557\n",
      "Epoch 22/50\n",
      "100/100 [==============================] - 0s - loss: 0.0371 - val_loss: 75.1378\n",
      "Epoch 23/50\n",
      "100/100 [==============================] - 0s - loss: 0.0364 - val_loss: 75.1109\n",
      "Epoch 24/50\n",
      "100/100 [==============================] - 0s - loss: 0.0365 - val_loss: 75.1271\n",
      "Epoch 25/50\n",
      "100/100 [==============================] - 0s - loss: 0.0336 - val_loss: 75.1212\n",
      "Epoch 26/50\n",
      "100/100 [==============================] - 0s - loss: 0.0328 - val_loss: 75.1316\n",
      "Epoch 27/50\n",
      "100/100 [==============================] - 0s - loss: 0.0275 - val_loss: 75.1318\n",
      "Epoch 28/50\n",
      "100/100 [==============================] - 0s - loss: 0.0338 - val_loss: 75.1397\n",
      "Epoch 29/50\n",
      "100/100 [==============================] - 0s - loss: 0.0302 - val_loss: 75.1352\n",
      "Epoch 30/50\n",
      "100/100 [==============================] - 0s - loss: 0.0277 - val_loss: 75.1461\n",
      "Epoch 31/50\n",
      "100/100 [==============================] - 0s - loss: 0.0280 - val_loss: 75.1514\n",
      "Epoch 32/50\n",
      "100/100 [==============================] - 0s - loss: 0.0267 - val_loss: 75.1408\n",
      "Epoch 33/50\n",
      "100/100 [==============================] - 0s - loss: 0.0250 - val_loss: 75.1320\n",
      "Epoch 34/50\n",
      "100/100 [==============================] - 0s - loss: 0.0258 - val_loss: 75.1385\n",
      "Epoch 35/50\n",
      "100/100 [==============================] - 0s - loss: 0.0247 - val_loss: 75.1663\n",
      "Epoch 36/50\n",
      "100/100 [==============================] - 0s - loss: 0.0305 - val_loss: 75.1526\n",
      "Epoch 37/50\n",
      "100/100 [==============================] - 0s - loss: 0.0333 - val_loss: 75.1351\n",
      "Epoch 38/50\n",
      "100/100 [==============================] - 0s - loss: 0.0287 - val_loss: 75.1317\n",
      "Epoch 39/50\n",
      "100/100 [==============================] - 0s - loss: 0.0249 - val_loss: 75.1394\n",
      "Epoch 40/50\n",
      "100/100 [==============================] - 0s - loss: 0.0217 - val_loss: 75.1323\n",
      "Epoch 41/50\n",
      "100/100 [==============================] - 0s - loss: 0.0233 - val_loss: 75.1454\n",
      "Epoch 42/50\n",
      "100/100 [==============================] - 0s - loss: 0.0229 - val_loss: 75.1304\n",
      "Epoch 43/50\n",
      "100/100 [==============================] - 0s - loss: 0.0235 - val_loss: 75.1351\n",
      "Epoch 44/50\n",
      "100/100 [==============================] - 0s - loss: 0.0253 - val_loss: 75.1382\n",
      "Epoch 45/50\n",
      "100/100 [==============================] - 0s - loss: 0.0207 - val_loss: 75.1348\n",
      "Epoch 46/50\n",
      "100/100 [==============================] - 0s - loss: 0.0245 - val_loss: 75.1449\n",
      "Epoch 47/50\n",
      "100/100 [==============================] - 0s - loss: 0.0268 - val_loss: 75.1475\n",
      "Epoch 48/50\n",
      "100/100 [==============================] - 0s - loss: 0.0218 - val_loss: 75.1466\n",
      "Epoch 49/50\n",
      "100/100 [==============================] - 0s - loss: 0.0187 - val_loss: 75.1503\n",
      "Epoch 50/50\n",
      "100/100 [==============================] - 0s - loss: 0.0201 - val_loss: 75.1493\n"
     ]
    },
    {
     "data": {
      "image/png": "[encoded data removed]",
      "text/plain": [
       "<matplotlib.figure.Figure at 0x7fc072da6450>"
      ]
     },
     "metadata": {},
     "output_type": "display_data"
    }
   ],
   "source": [
    "# fit network\n",
    "history = model.fit(train_X, train_y, epochs=epoch, batch_size=bs, validation_data=(test_X, test_y), verbose=1, shuffle=True)\n",
    "#history = model.fit(train_X, train_y, epochs=epoch, batch_size=bs, verbose=1, shuffle=True)\n",
    "# plot history\n",
    "fig, axs = plt.subplots(1,2)\n",
    "axs = axs.flatten()\n",
    "axs[0].plot(history.history['loss'], label='train')\n",
    "axs[1].plot(history.history['val_loss'], label='test')\n",
    "plt.legend()\n",
    "plt.show()"
   ]
  },
  {
   "cell_type": "code",
   "execution_count": 15,
   "metadata": {},
   "outputs": [
    {
     "name": "stdout",
     "output_type": "stream",
     "text": [
      "Test RMSE: 0.461\n"
     ]
    },
    {
     "data": {
      "image/png": "[encoded data removed]",
      "text/plain": [
       "<matplotlib.figure.Figure at 0x7f85c8343ed0>"
      ]
     },
     "metadata": {},
     "output_type": "display_data"
    },
    {
     "data": {
      "image/png": "[encoded data removed]",
      "text/plain": [
       "<matplotlib.figure.Figure at 0x7f85d5972190>"
      ]
     },
     "metadata": {},
     "output_type": "display_data"
    }
   ],
   "source": [
    "# make a prediction\n",
    "yhat = model.predict(test_X)\n",
    "\n",
    "# calculate RMSE\n",
    "rmse = sqrt(sklearn.metrics.mean_squared_error(test_y, yhat))\n",
    "print('Test RMSE: %.3f' % rmse)\n",
    "\n",
    "plt.title('Test RMSE: %.3f' % rmse)\n",
    "#plt.savefig('plots/'+setnumber+'_BatchSize'+str(bs)+'_Epochs'+str(epoch)+'_LayerWidth'+str(lw)+'_Stack'+str(stack_depth)+'.png')\n",
    "\n",
    "plt.figure()\n",
    "plt.plot(test_y, yhat, '.')\n",
    "plt.plot(test_y, test_y, '-')\n",
    "plt.title('Test RMSE: %.3f' % rmse)\n",
    "plt.show()\n",
    "#plt.savefig('plots/prediction.png')"
   ]
  },
  {
   "cell_type": "code",
   "execution_count": null,
   "metadata": {
    "collapsed": true
   },
   "outputs": [],
   "source": []
  }
 ],
 "metadata": {
  "kernelspec": {
   "display_name": "Python 2",
   "language": "python",
   "name": "python2"
  },
  "language_info": {
   "codemirror_mode": {
    "name": "ipython",
    "version": 2
   },
   "file_extension": ".py",
   "mimetype": "text/x-python",
   "name": "python",
   "nbconvert_exporter": "python",
   "pygments_lexer": "ipython2",
   "version": "2.7.13"
  }
 },
 "nbformat": 4,
 "nbformat_minor": 2
}
